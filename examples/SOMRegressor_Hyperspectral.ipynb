{
 "cells": [
  {
   "cell_type": "markdown",
   "metadata": {},
   "source": [
    "# SOM Regressor - Hyperspectral soil-moisture dataset"
   ]
  },
  {
   "cell_type": "code",
   "execution_count": 1,
   "metadata": {},
   "outputs": [],
   "source": [
    "import numpy as np\n",
    "import pandas as pd\n",
    "import seaborn as sns\n",
    "import matplotlib.pyplot as plt\n",
    "import matplotlib\n",
    "from sklearn.model_selection import train_test_split\n",
    "from sklearn.metrics import r2_score\n",
    "from sklearn.ensemble import RandomForestRegressor\n",
    "import pickle\n",
    "import susi"
   ]
  },
  {
   "cell_type": "markdown",
   "metadata": {},
   "source": [
    "## Data"
   ]
  },
  {
   "cell_type": "code",
   "execution_count": 2,
   "metadata": {},
   "outputs": [],
   "source": [
    "df = pd.read_csv(\"https://raw.githubusercontent.com/felixriese/hyperspectral-soilmoisture-dataset/master/soilmoisture_dataset.csv\")"
   ]
  },
  {
   "cell_type": "code",
   "execution_count": 3,
   "metadata": {},
   "outputs": [
    {
     "name": "stdout",
     "output_type": "stream",
     "text": [
      "(339, 125) (340, 125) (339,) (340,)\n"
     ]
    }
   ],
   "source": [
    "# get hyperspectral bands:\n",
    "hypbands = []\n",
    "for col in df.columns:\n",
    "    try:\n",
    "        int(col)\n",
    "    except Exception:\n",
    "        continue\n",
    "    hypbands.append(col)\n",
    "\n",
    "# split dataset\n",
    "X_train, X_test, y_train, y_test = train_test_split(\n",
    "    df[hypbands], df[\"soil_moisture\"],\n",
    "    test_size=0.5, random_state=42, shuffle=True)\n",
    "print(X_train.shape, X_test.shape, y_train.shape, y_test.shape)"
   ]
  },
  {
   "cell_type": "markdown",
   "metadata": {},
   "source": [
    "## Regression"
   ]
  },
  {
   "cell_type": "code",
   "execution_count": 4,
   "metadata": {},
   "outputs": [],
   "source": [
    "som = susi.SOMRegressor(\n",
    "    n_rows=35,\n",
    "    n_columns=35,\n",
    "    n_iter_unsupervised=2500,\n",
    "    n_iter_supervised=2500,\n",
    "    neighborhood_mode_unsupervised=\"linear\",\n",
    "    neighborhood_mode_supervised=\"linear\",\n",
    "    learn_mode_unsupervised=\"min\",\n",
    "    learn_mode_supervised=\"min\",\n",
    "    learning_rate_start=0.5,\n",
    "    learning_rate_end=0.05,\n",
    "    # do_class_weighting=True,\n",
    "    random_state=None,\n",
    "    n_jobs=1)"
   ]
  },
  {
   "cell_type": "code",
   "execution_count": 5,
   "metadata": {},
   "outputs": [],
   "source": [
    "som.fit(X_train, y_train)\n",
    "pickle.dump(som, open(\"pickles/SOMRegressor.p\", \"wb\"))"
   ]
  },
  {
   "cell_type": "code",
   "execution_count": 6,
   "metadata": {},
   "outputs": [],
   "source": [
    "som = pickle.load(open(\"pickles/SOMRegressor.p\", \"rb\"))\n",
    "y_pred = som.predict(X_test)\n",
    "y_pred_train = som.predict(X_train)\n",
    "pickle.dump(y_pred, open(\"pickles/SOMRegressor_pred.p\", \"wb\"))"
   ]
  },
  {
   "cell_type": "code",
   "execution_count": 7,
   "metadata": {},
   "outputs": [
    {
     "name": "stdout",
     "output_type": "stream",
     "text": [
      "Train: 0.8990352912146329\n",
      "Test: 0.9019469162404402\n"
     ]
    }
   ],
   "source": [
    "print(\"Train:\", r2_score(y_train, y_pred_train))\n",
    "print(\"Test:\", r2_score(y_test, y_pred))"
   ]
  },
  {
   "cell_type": "markdown",
   "metadata": {},
   "source": [
    "## Plots"
   ]
  },
  {
   "cell_type": "code",
   "execution_count": 8,
   "metadata": {},
   "outputs": [],
   "source": [
    "estimation_map = np.squeeze(som.get_estimation_map())\n",
    "# print(estimation_map)"
   ]
  },
  {
   "cell_type": "code",
   "execution_count": 16,
   "metadata": {},
   "outputs": [
    {
     "data": {
      "image/png": "[encoded data removed]",
      "text/plain": [
       "<Figure size 504x360 with 2 Axes>"
      ]
     },
     "metadata": {
      "needs_background": "light"
     },
     "output_type": "display_data"
    }
   ],
   "source": [
    "def plot_estimation_map(estimation_map, fontsize=20):\n",
    "    plt.figure(figsize=(7,5))\n",
    "    plt.imshow(estimation_map, cmap=\"viridis_r\")\n",
    "    plt.xlabel(\"SOM columns\", fontsize=fontsize)\n",
    "    plt.ylabel(\"SOM rows\", fontsize=fontsize)\n",
    "    plt.xticks(fontsize=fontsize)\n",
    "    plt.yticks(fontsize=fontsize)\n",
    "    cbar = plt.colorbar()\n",
    "    cbar.ax.tick_params(labelsize=fontsize)\n",
    "    cbar.ax.set_ylabel('Soil moisture in %', fontsize=fontsize, labelpad=10)\n",
    "    for label in cbar.ax.xaxis.get_ticklabels()[::2]:\n",
    "        label.set_visible(False)\n",
    "    plt.grid(b=False)\n",
    "    plt.savefig(\"plots/regression_output_distribution.pdf\", bbox_inches='tight')\n",
    "\n",
    "plot_estimation_map(estimation_map)"
   ]
  },
  {
   "cell_type": "code",
   "execution_count": 21,
   "metadata": {},
   "outputs": [],
   "source": [
    "def plot_som_histogram(bmu_list, n_rows, n_columns, fontsize=22):\n",
    "    \"\"\"Plot 2D Histogram of SOM.\n",
    "\n",
    "    Plot 2D Histogram with one bin for each SOM node. The content of one\n",
    "    bin is the number of datapoints matched to the specific node.\n",
    "\n",
    "    \"\"\"\n",
    "    fig, ax = plt.subplots(1, 1, figsize=(6, 6))\n",
    "\n",
    "    # colormap\n",
    "    cmap = plt.cm.viridis\n",
    "    cmaplist = [cmap(i) for i in range(cmap.N)]\n",
    "    cmap = matplotlib.colors.LinearSegmentedColormap.from_list('mcm',cmaplist, cmap.N)\n",
    "\n",
    "    #bounds = np.linspace(0, 5, 6)\n",
    "    bounds = np.arange(0.,6.,1)\n",
    "    norm = matplotlib.colors.BoundaryNorm(bounds, cmap.N)\n",
    "    ax2 = fig.add_axes([0.96, 0.12, 0.03, 0.76])\n",
    "    cbar = matplotlib.colorbar.ColorbarBase(ax2, cmap=cmap, norm=norm,\n",
    "        spacing='proportional', ticks=bounds, boundaries=bounds, format='%1i', extend=\"max\")\n",
    "    cbar.ax.set_ylabel('Number of datapoints', fontsize=fontsize)\n",
    "    cbar.ax.tick_params(labelsize=fontsize)\n",
    "\n",
    "    counts, xedges, yedges, Image = ax.hist2d(\n",
    "        [x[0] for x in bmu_list], [x[1] for x in bmu_list],\n",
    "        bins=[n_rows, n_columns], cmin=1, cmap=cmap, norm=norm)\n",
    "\n",
    "    #print(np.nanmax(counts))\n",
    "    \n",
    "    for label in cbar.ax.xaxis.get_ticklabels()[::2]:\n",
    "        label.set_visible(False)\n",
    "    # plt.xlim(xmin=0, xmax=self.NColumns)\n",
    "    # plt.ylim(ymin=0, ymax=self.NRows)\n",
    "    ax.set_xlabel(\"SOM columns\", fontsize=fontsize)\n",
    "    ax.set_ylabel(\"SOM rows\", fontsize=fontsize)\n",
    "    for tick in ax.xaxis.get_major_ticks():\n",
    "        tick.label.set_fontsize(fontsize)\n",
    "    for tick in ax.yaxis.get_major_ticks():\n",
    "        tick.label.set_fontsize(fontsize)\n",
    "\n",
    "    # to be compatible with plt.imshow:\n",
    "    ax.invert_yaxis()\n",
    "\n",
    "    plt.grid(b=False)\n",
    "    plt.savefig(\"plots/regression_som_histogram.pdf\", bbox_inches='tight')"
   ]
  },
  {
   "cell_type": "code",
   "execution_count": 22,
   "metadata": {},
   "outputs": [
    {
     "data": {
      "image/png": "[encoded data removed]",
      "text/plain": [
       "<Figure size 432x432 with 2 Axes>"
      ]
     },
     "metadata": {
      "needs_background": "light"
     },
     "output_type": "display_data"
    }
   ],
   "source": [
    "bmu_list = som.get_bmus(X_train.values, som.unsuper_som_)\n",
    "plot_som_histogram(bmu_list, 35, 35)"
   ]
  },
  {
   "cell_type": "markdown",
   "metadata": {},
   "source": [
    "## Random Forest"
   ]
  },
  {
   "cell_type": "code",
   "execution_count": 6,
   "metadata": {},
   "outputs": [
    {
     "data": {
      "text/plain": [
       "RandomForestRegressor(bootstrap=True, criterion='mse', max_depth=None,\n",
       "           max_features='auto', max_leaf_nodes=None,\n",
       "           min_impurity_decrease=0.0, min_impurity_split=None,\n",
       "           min_samples_leaf=1, min_samples_split=2,\n",
       "           min_weight_fraction_leaf=0.0, n_estimators=1000, n_jobs=-1,\n",
       "           oob_score=False, random_state=None, verbose=0, warm_start=False)"
      ]
     },
     "execution_count": 6,
     "metadata": {},
     "output_type": "execute_result"
    }
   ],
   "source": [
    "model = RandomForestRegressor(n_estimators=1000, n_jobs=-1)\n",
    "model.fit(X_train, y_train)"
   ]
  },
  {
   "cell_type": "code",
   "execution_count": 7,
   "metadata": {},
   "outputs": [],
   "source": [
    "y_pred_rf = model.predict(X_test)\n",
    "y_pred_train_rf = model.predict(X_train)"
   ]
  },
  {
   "cell_type": "code",
   "execution_count": 8,
   "metadata": {},
   "outputs": [
    {
     "name": "stdout",
     "output_type": "stream",
     "text": [
      "Train: 0.9919601451355625\n",
      "Test: 0.9354865027540096\n"
     ]
    }
   ],
   "source": [
    "print(\"Train:\", r2_score(y_train, y_pred_train_rf))\n",
    "print(\"Test:\", r2_score(y_test, y_pred_rf))"
   ]
  },
  {
   "cell_type": "code",
   "execution_count": null,
   "metadata": {},
   "outputs": [],
   "source": []
  }
 ],
 "metadata": {
  "kernelspec": {
   "display_name": "Python 3",
   "language": "python",
   "name": "python3"
  },
  "language_info": {
   "codemirror_mode": {
    "name": "ipython",
    "version": 3
   },
   "file_extension": ".py",
   "mimetype": "text/x-python",
   "name": "python",
   "nbconvert_exporter": "python",
   "pygments_lexer": "ipython3",
   "version": "3.6.5"
  }
 },
 "nbformat": 4,
 "nbformat_minor": 2
}
